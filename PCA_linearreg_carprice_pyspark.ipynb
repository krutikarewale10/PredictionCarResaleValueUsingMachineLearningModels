{
 "cells": [
  {
   "cell_type": "markdown",
   "metadata": {},
   "source": [
    "## LINEAR REGRESSION"
   ]
  },
  {
   "cell_type": "code",
   "execution_count": 35,
   "metadata": {},
   "outputs": [],
   "source": [
    "#set environment\n",
    "import os\n",
    "import sys\n",
    " \n",
    "os.environ[\"SPARK_HOME\"] = \"/usr/hdp/current/spark2-client\"\n",
    "os.environ[\"PYLIB\"] = os.environ[\"SPARK_HOME\"] + \"/python/lib\"\n",
    "# In below two lines, use /usr/bin/python2.7 if you want to use Python 2\n",
    "os.environ[\"PYSPARK_PYTHON\"] = \"/usr/local/anaconda/bin/python\" \n",
    "os.environ[\"PYSPARK_DRIVER_PYTHON\"] = \"/usr/local/anaconda/bin/python\"\n",
    "sys.path.insert(0, os.environ[\"PYLIB\"] +\"/py4j-0.10.4-src.zip\")\n",
    "sys.path.insert(0, os.environ[\"PYLIB\"] +\"/pyspark.zip\")"
   ]
  },
  {
   "cell_type": "code",
   "execution_count": 36,
   "metadata": {},
   "outputs": [],
   "source": [
    "#Creating sparksession \n",
    "from pyspark.sql import SparkSession\n",
    "spark = SparkSession.builder.getOrCreate()"
   ]
  },
  {
   "cell_type": "code",
   "execution_count": 37,
   "metadata": {},
   "outputs": [],
   "source": [
    "#import Sparksession driver\n",
    "from pyspark.sql import SparkSession\n",
    "spark = SparkSession \\\n",
    "    .builder \\\n",
    "    .appName(\"Reg Car Price Dataset\") \\\n",
    "    .getOrCreate()"
   ]
  },
  {
   "cell_type": "code",
   "execution_count": 38,
   "metadata": {},
   "outputs": [
    {
     "name": "stdout",
     "output_type": "stream",
     "text": [
      "+----+-----------------+---------+------------+----------+-------+------+-----+-----+-----+\n",
      "|Year|Kilometers_Driven|Fuel_Type|Transmission|Owner_Type|Mileage|Engine|Power|Seats|Price|\n",
      "+----+-----------------+---------+------------+----------+-------+------+-----+-----+-----+\n",
      "|2010|            72000|      CNG|      Manual|     First|   26.6| 998.0|58.16|  5.0| 1.75|\n",
      "|2015|            41000|   Diesel|      Manual|     First|  19.67|1582.0|126.2|  5.0| 12.5|\n",
      "|2011|            46000|   Petrol|      Manual|     First|   18.2|1199.0| 88.7|  5.0|  4.5|\n",
      "+----+-----------------+---------+------------+----------+-------+------+-----+-----+-----+\n",
      "only showing top 3 rows\n",
      "\n"
     ]
    }
   ],
   "source": [
    "#import csv\n",
    "df = spark.read.csv('data/cardata_preprocessed.csv',header=True,inferSchema=True)\n",
    "df.show(3)\n"
   ]
  },
  {
   "cell_type": "code",
   "execution_count": 39,
   "metadata": {},
   "outputs": [
    {
     "name": "stdout",
     "output_type": "stream",
     "text": [
      "no. of cells in column Year with null values: 0\n",
      "no. of cells in column Kilometers_Driven with null values: 0\n",
      "no. of cells in column Fuel_Type with null values: 0\n",
      "no. of cells in column Transmission with null values: 0\n",
      "no. of cells in column Owner_Type with null values: 0\n",
      "no. of cells in column Mileage with null values: 0\n",
      "no. of cells in column Engine with null values: 0\n",
      "no. of cells in column Power with null values: 0\n",
      "no. of cells in column Seats with null values: 0\n",
      "no. of cells in column Price with null values: 0\n"
     ]
    }
   ],
   "source": [
    "for col in df.columns:\n",
    "    print(\"no. of cells in column\", col, \"with null values:\", df.filter(df[col].isNull()).count())"
   ]
  },
  {
   "cell_type": "code",
   "execution_count": 40,
   "metadata": {},
   "outputs": [
    {
     "name": "stdout",
     "output_type": "stream",
     "text": [
      "root\n",
      " |-- Year: integer (nullable = true)\n",
      " |-- Kilometers_Driven: integer (nullable = true)\n",
      " |-- Fuel_Type: string (nullable = true)\n",
      " |-- Transmission: string (nullable = true)\n",
      " |-- Owner_Type: string (nullable = true)\n",
      " |-- Mileage: double (nullable = true)\n",
      " |-- Engine: double (nullable = true)\n",
      " |-- Power: double (nullable = true)\n",
      " |-- Seats: double (nullable = true)\n",
      " |-- Price: double (nullable = true)\n",
      "\n"
     ]
    }
   ],
   "source": [
    "#SQL like schema\n",
    "df.printSchema()"
   ]
  },
  {
   "cell_type": "code",
   "execution_count": 41,
   "metadata": {},
   "outputs": [
    {
     "data": {
      "text/plain": [
       "5872"
      ]
     },
     "execution_count": 41,
     "metadata": {},
     "output_type": "execute_result"
    }
   ],
   "source": [
    "#count number of records in the df\n",
    "df.count()"
   ]
  },
  {
   "cell_type": "code",
   "execution_count": 42,
   "metadata": {},
   "outputs": [
    {
     "name": "stdout",
     "output_type": "stream",
     "text": [
      "+----+-----------------+---------+------------+----------+-------+------+-----+-----+-----+------------+-------------------------+-----------------+--------------------+------------------+---------------+--------------+-------------+-------------+-------------+\n",
      "|Year|Kilometers_Driven|Fuel_Type|Transmission|Owner_Type|Mileage|Engine|Power|Seats|Price|Year_encoded|Kilometers_Driven_encoded|Fuel_Type_encoded|Transmission_encoded|Owner_Type_encoded|Mileage_encoded|Engine_encoded|Power_encoded|Seats_encoded|Price_encoded|\n",
      "+----+-----------------+---------+------------+----------+-------+------+-----+-----+-----+------------+-------------------------+-----------------+--------------------+------------------+---------------+--------------+-------------+-------------+-------------+\n",
      "|2010|            72000|      CNG|      Manual|     First|   26.6| 998.0|58.16|  5.0| 1.75|         7.0|                     17.0|              2.0|                 0.0|               0.0|          141.0|           3.0|        106.0|          0.0|         68.0|\n",
      "|2015|            41000|   Diesel|      Manual|     First|  19.67|1582.0|126.2|  5.0| 12.5|         1.0|                     28.0|              0.0|                 0.0|               0.0|           44.0|          11.0|         14.0|          0.0|         39.0|\n",
      "+----+-----------------+---------+------------+----------+-------+------+-----+-----+-----+------------+-------------------------+-----------------+--------------------+------------------+---------------+--------------+-------------+-------------+-------------+\n",
      "only showing top 2 rows\n",
      "\n"
     ]
    }
   ],
   "source": [
    "#Label encoder\n",
    "from pyspark.ml.feature import StringIndexer\n",
    "indexed = df\n",
    "for col in df.columns:\n",
    "    stringIndexer = StringIndexer(inputCol=col, outputCol=col+\"_encoded\")\n",
    "    indexed = stringIndexer.fit(indexed).transform(indexed)\n",
    "indexed.show(2)"
   ]
  },
  {
   "cell_type": "code",
   "execution_count": 43,
   "metadata": {},
   "outputs": [
    {
     "name": "stdout",
     "output_type": "stream",
     "text": [
      "+----+-----------------+---------+------------+----------+-------+------+-----+-----+-----+------------+-------------------------+-----------------+--------------------+------------------+---------------+--------------+-------------+-------------+-------------+-------------+\n",
      "|Year|Kilometers_Driven|Fuel_Type|Transmission|Owner_Type|Mileage|Engine|Power|Seats|Price|Year_encoded|Kilometers_Driven_encoded|Fuel_Type_encoded|Transmission_encoded|Owner_Type_encoded|Mileage_encoded|Engine_encoded|Power_encoded|Seats_encoded|Price_encoded|Fuel_Type_vec|\n",
      "+----+-----------------+---------+------------+----------+-------+------+-----+-----+-----+------------+-------------------------+-----------------+--------------------+------------------+---------------+--------------+-------------+-------------+-------------+-------------+\n",
      "|2010|            72000|      CNG|      Manual|     First|   26.6| 998.0|58.16|  5.0| 1.75|         7.0|                     17.0|              2.0|                 0.0|               0.0|          141.0|           3.0|        106.0|          0.0|         68.0|(3,[2],[1.0])|\n",
      "|2015|            41000|   Diesel|      Manual|     First|  19.67|1582.0|126.2|  5.0| 12.5|         1.0|                     28.0|              0.0|                 0.0|               0.0|           44.0|          11.0|         14.0|          0.0|         39.0|(3,[0],[1.0])|\n",
      "+----+-----------------+---------+------------+----------+-------+------+-----+-----+-----+------------+-------------------------+-----------------+--------------------+------------------+---------------+--------------+-------------+-------------+-------------+-------------+\n",
      "only showing top 2 rows\n",
      "\n",
      "+----+-----------------+---------+------------+----------+-------+------+-----+-----+-----+------------+-------------------------+-----------------+--------------------+------------------+---------------+--------------+-------------+-------------+-------------+-------------+--------------+\n",
      "|Year|Kilometers_Driven|Fuel_Type|Transmission|Owner_Type|Mileage|Engine|Power|Seats|Price|Year_encoded|Kilometers_Driven_encoded|Fuel_Type_encoded|Transmission_encoded|Owner_Type_encoded|Mileage_encoded|Engine_encoded|Power_encoded|Seats_encoded|Price_encoded|Fuel_Type_vec|Owner_Type_vec|\n",
      "+----+-----------------+---------+------------+----------+-------+------+-----+-----+-----+------------+-------------------------+-----------------+--------------------+------------------+---------------+--------------+-------------+-------------+-------------+-------------+--------------+\n",
      "|2010|            72000|      CNG|      Manual|     First|   26.6| 998.0|58.16|  5.0| 1.75|         7.0|                     17.0|              2.0|                 0.0|               0.0|          141.0|           3.0|        106.0|          0.0|         68.0|(3,[2],[1.0])| (3,[0],[1.0])|\n",
      "|2015|            41000|   Diesel|      Manual|     First|  19.67|1582.0|126.2|  5.0| 12.5|         1.0|                     28.0|              0.0|                 0.0|               0.0|           44.0|          11.0|         14.0|          0.0|         39.0|(3,[0],[1.0])| (3,[0],[1.0])|\n",
      "+----+-----------------+---------+------------+----------+-------+------+-----+-----+-----+------------+-------------------------+-----------------+--------------------+------------------+---------------+--------------+-------------+-------------+-------------+-------------+--------------+\n",
      "only showing top 2 rows\n",
      "\n"
     ]
    }
   ],
   "source": [
    "#one hot encoding on few variables with more than two levels\n",
    "from pyspark.ml.feature import OneHotEncoder\n",
    "encoder = OneHotEncoder(inputCol=\"Fuel_Type_encoded\",outputCol=\"Fuel_Type_vec\",dropLast=True)\n",
    "encoded = encoder.transform(indexed)\n",
    "encoded.show(2)\n",
    "\n",
    "from pyspark.ml.feature import OneHotEncoder\n",
    "encoder = OneHotEncoder(inputCol=\"Owner_Type_encoded\",outputCol=\"Owner_Type_vec\",dropLast=True)\n",
    "encoded = encoder.transform(encoded)\n",
    "encoded.show(2)"
   ]
  },
  {
   "cell_type": "code",
   "execution_count": 44,
   "metadata": {},
   "outputs": [
    {
     "name": "stdout",
     "output_type": "stream",
     "text": [
      "+--------------------+\n",
      "|            features|\n",
      "+--------------------+\n",
      "|[72000.0,0.0,0.0,...|\n",
      "|[41000.0,1.0,0.0,...|\n",
      "|[46000.0,0.0,1.0,...|\n",
      "|[87000.0,1.0,0.0,...|\n",
      "|[40670.0,1.0,0.0,...|\n",
      "+--------------------+\n",
      "only showing top 5 rows\n",
      "\n",
      "+--------------------+-----+\n",
      "|            features|Price|\n",
      "+--------------------+-----+\n",
      "|[72000.0,0.0,0.0,...| 1.75|\n",
      "|[41000.0,1.0,0.0,...| 12.5|\n",
      "|[46000.0,0.0,1.0,...|  4.5|\n",
      "+--------------------+-----+\n",
      "only showing top 3 rows\n",
      "\n"
     ]
    }
   ],
   "source": [
    "#all the independent variables need to be packed into one column of vector type\n",
    "from pyspark.ml.feature import VectorAssembler\n",
    "assembler = VectorAssembler(inputCols=[\"Kilometers_Driven\",\"Fuel_Type_vec\",\"Transmission_encoded\",\n",
    "                                       \"Owner_Type_vec\",\"Mileage\",\"Engine\",\"Power\",\"Seats\"], \n",
    "                            outputCol=\"features\")\n",
    "feature_vec=assembler.transform(encoded)\n",
    "feature_vec.select(\"features\").show(5)\n",
    "df = feature_vec.select(['features','Price'])\n",
    "df.show(3)"
   ]
  },
  {
   "cell_type": "code",
   "execution_count": 45,
   "metadata": {},
   "outputs": [],
   "source": [
    "#Standard scaling for data\n",
    "from pyspark.ml.feature import StandardScaler\n",
    "scaler = StandardScaler(inputCol=\"features\", outputCol=\"scaled_features\")"
   ]
  },
  {
   "cell_type": "code",
   "execution_count": 46,
   "metadata": {},
   "outputs": [],
   "source": [
    "scaler_model = scaler.fit(feature_vec)"
   ]
  },
  {
   "cell_type": "code",
   "execution_count": 47,
   "metadata": {},
   "outputs": [],
   "source": [
    "scaled_data = scaler_model.transform(feature_vec)"
   ]
  },
  {
   "cell_type": "code",
   "execution_count": 48,
   "metadata": {},
   "outputs": [],
   "source": [
    "#import PCA \n",
    "from pyspark.ml.feature import PCA\n",
    "pca = PCA(k=5, inputCol='features', outputCol='features_pca')"
   ]
  },
  {
   "cell_type": "code",
   "execution_count": 49,
   "metadata": {},
   "outputs": [],
   "source": [
    "#Pca model on feature vector\n",
    "pca_model = pca.fit(feature_vec)\n"
   ]
  },
  {
   "cell_type": "code",
   "execution_count": 50,
   "metadata": {},
   "outputs": [
    {
     "name": "stdout",
     "output_type": "stream",
     "text": [
      "+--------------------+\n",
      "|        features_pca|\n",
      "+--------------------+\n",
      "|[-72000.593845961...|\n",
      "|[-41000.955575883...|\n",
      "|[-46000.721331342...|\n",
      "+--------------------+\n",
      "only showing top 3 rows\n",
      "\n"
     ]
    }
   ],
   "source": [
    "pca_data = pca_model.transform(feature_vec).select('features_pca')\n",
    "pca_data.show(3)\n"
   ]
  },
  {
   "cell_type": "code",
   "execution_count": 51,
   "metadata": {
    "scrolled": true
   },
   "outputs": [
    {
     "name": "stdout",
     "output_type": "stream",
     "text": [
      "+--------------------+-----+\n",
      "|            features|Price|\n",
      "+--------------------+-----+\n",
      "|[72000.0,0.0,0.0,...| 1.75|\n",
      "|[41000.0,1.0,0.0,...| 12.5|\n",
      "|[46000.0,0.0,1.0,...|  4.5|\n",
      "|[87000.0,1.0,0.0,...|  6.0|\n",
      "|[40670.0,1.0,0.0,...|17.74|\n",
      "+--------------------+-----+\n",
      "only showing top 5 rows\n",
      "\n"
     ]
    }
   ],
   "source": [
    "#concatenating label column to feature_pca columns\n",
    "from pyspark.sql.functions import concat\n",
    "from pyspark.sql.functions import col\n",
    "res = df.withColumn(\"Price\",concat(col(\"Price\")))\n",
    "res.show(5)\n"
   ]
  },
  {
   "cell_type": "code",
   "execution_count": 52,
   "metadata": {},
   "outputs": [
    {
     "name": "stdout",
     "output_type": "stream",
     "text": [
      "+--------------------+-----+--------------------+\n",
      "|            features|Price|        features_pca|\n",
      "+--------------------+-----+--------------------+\n",
      "|[72000.0,0.0,0.0,...| 1.75|[-72000.593845961...|\n",
      "|[41000.0,1.0,0.0,...| 12.5|[-41000.955575883...|\n",
      "|[46000.0,0.0,1.0,...|  4.5|[-46000.721331342...|\n",
      "|[87000.0,1.0,0.0,...|  6.0|[-87000.743516365...|\n",
      "|[40670.0,1.0,0.0,...|17.74|[-40671.190348170...|\n",
      "|(12,[0,5,8,9,10,1...| 2.35|[-75000.481509463...|\n",
      "|[86999.0,1.0,0.0,...|  3.5|[-86999.872357875...|\n",
      "|[36000.0,1.0,0.0,...| 17.5|[-36001.669757758...|\n",
      "|[64430.0,1.0,0.0,...|  5.2|[-64430.960522398...|\n",
      "|[65932.0,1.0,0.0,...| 1.95|[-65932.747111100...|\n",
      "|[25692.0,0.0,1.0,...| 9.95|[-25692.885071442...|\n",
      "|[60000.0,0.0,1.0,...| 4.49|[-60000.900262440...|\n",
      "|[64424.0,1.0,0.0,...|  5.6|[-64424.747380597...|\n",
      "|[72000.0,1.0,0.0,...| 27.0|[-72001.313627025...|\n",
      "|[85000.0,1.0,0.0,...| 17.5|[-85001.309840834...|\n",
      "|[110000.0,1.0,0.0...| 15.0|[-110001.48734511...|\n",
      "|[58950.0,1.0,0.0,...|  5.4|[-58950.900692414...|\n",
      "|[25000.0,1.0,0.0,...| 5.99|[-25000.754648860...|\n",
      "|[77469.0,1.0,0.0,...| 6.34|[-77469.874529918...|\n",
      "|[78500.0,1.0,0.0,...| 28.0|[-78501.290165569...|\n",
      "+--------------------+-----+--------------------+\n",
      "only showing top 20 rows\n",
      "\n"
     ]
    }
   ],
   "source": [
    "#\n",
    "from pyspark.sql.functions import monotonically_increasing_id \n",
    "df = df.withColumn(\"row_id\", monotonically_increasing_id())\n",
    "pca_data = pca_data.withColumn(\"row_id\", monotonically_increasing_id())\n",
    "result_df = df.join(pca_data, (\"row_id\")).drop(\"row_id\")\n",
    "result_df.show()"
   ]
  },
  {
   "cell_type": "code",
   "execution_count": 53,
   "metadata": {},
   "outputs": [
    {
     "name": "stdout",
     "output_type": "stream",
     "text": [
      "+-----+--------------------+\n",
      "|Price|        features_pca|\n",
      "+-----+--------------------+\n",
      "| 1.75|[-72000.593845961...|\n",
      "| 12.5|[-41000.955575883...|\n",
      "|  4.5|[-46000.721331342...|\n",
      "|  6.0|[-87000.743516365...|\n",
      "|17.74|[-40671.190348170...|\n",
      "+-----+--------------------+\n",
      "only showing top 5 rows\n",
      "\n"
     ]
    }
   ],
   "source": [
    "#dropping insignificant features\n",
    "result_df = result_df.drop(\"features\")\n",
    "result_df.show(5)"
   ]
  },
  {
   "cell_type": "code",
   "execution_count": 54,
   "metadata": {},
   "outputs": [
    {
     "name": "stdout",
     "output_type": "stream",
     "text": [
      "+-----+--------------------+\n",
      "|Price|        features_pca|\n",
      "+-----+--------------------+\n",
      "| 0.45|[-95150.586598699...|\n",
      "| 0.45|[-86000.800079386...|\n",
      "|  0.5|[-57000.369037015...|\n",
      "+-----+--------------------+\n",
      "only showing top 3 rows\n",
      "\n"
     ]
    }
   ],
   "source": [
    "# Split the data into train and test sets\n",
    "train_data, test_data = result_df.randomSplit([.75,.25],seed=0)\n",
    "train_data.show(3)"
   ]
  },
  {
   "cell_type": "code",
   "execution_count": 55,
   "metadata": {},
   "outputs": [
    {
     "name": "stdout",
     "output_type": "stream",
     "text": [
      "root\n",
      " |-- Price: double (nullable = true)\n",
      " |-- features_pca: vector (nullable = true)\n",
      " |-- prediction: double (nullable = true)\n",
      "\n",
      "Coefficients: [4.510033936352438e-05,-0.013058370908925077,-0.15117953552801666,-0.28632146315410195,0.4826898890894985]\n",
      "Intercept: -15.627293206849307\n"
     ]
    }
   ],
   "source": [
    "#import linear regression model\n",
    "from pyspark.ml.regression import LinearRegression\n",
    "# Create initial LinearRegression model\n",
    "lr = LinearRegression(labelCol=\"Price\", featuresCol=\"features_pca\",  \n",
    "                        maxIter=10, regParam=0.0001,  \n",
    "                        elasticNetParam=0.0)\n",
    "#fit linear regression model on training data\n",
    "lrModel = lr.fit(train_data)\n",
    "predictions = lrModel.transform(test_data)\n",
    "predictions.printSchema()\n",
    "print(\"Coefficients: \" + str(lrModel.coefficients))\n",
    "print(\"Intercept: \" + str(lrModel.intercept))"
   ]
  },
  {
   "cell_type": "code",
   "execution_count": 56,
   "metadata": {},
   "outputs": [
    {
     "name": "stdout",
     "output_type": "stream",
     "text": [
      "RMSE: 6.746636\n",
      "r2: 0.640053\n"
     ]
    }
   ],
   "source": [
    "#Accuracy Metrics R2 & RMSE\n",
    "trainingSummary = lrModel.summary\n",
    "print(\"RMSE: %f\" % trainingSummary.rootMeanSquaredError)\n",
    "print(\"r2: %f\" % trainingSummary.r2)"
   ]
  },
  {
   "cell_type": "code",
   "execution_count": 57,
   "metadata": {},
   "outputs": [],
   "source": [
    "#Conclusion : RMSE: 6.746636 & r2: 0.640053 for data."
   ]
  },
  {
   "cell_type": "raw",
   "metadata": {},
   "source": [
    "CONCLUSION :  RMSE: 6.746636 & r2: 0.640053 which slightly high than sklearn model. R2 is 0.64 so we can conclude that model explains 64% of the change in our target variable price."
   ]
  },
  {
   "cell_type": "markdown",
   "metadata": {},
   "source": [
    "## RANDOM FOREST"
   ]
  },
  {
   "cell_type": "code",
   "execution_count": 58,
   "metadata": {},
   "outputs": [],
   "source": [
    "#immport random forest regressor\n",
    "from pyspark.ml.regression import RandomForestRegressor\n",
    "rf = RandomForestRegressor(featuresCol=\"features\",labelCol=\"Price\")"
   ]
  },
  {
   "cell_type": "code",
   "execution_count": 59,
   "metadata": {},
   "outputs": [],
   "source": [
    "# Split the data into train and test sets\n",
    "train_data, test_data = df.randomSplit([.75,.25],seed=0)"
   ]
  },
  {
   "cell_type": "code",
   "execution_count": 60,
   "metadata": {},
   "outputs": [],
   "source": [
    "model = rf.fit(train_data)"
   ]
  },
  {
   "cell_type": "code",
   "execution_count": 61,
   "metadata": {},
   "outputs": [],
   "source": [
    "predictions = model.transform(test_data)"
   ]
  },
  {
   "cell_type": "code",
   "execution_count": 62,
   "metadata": {},
   "outputs": [
    {
     "name": "stdout",
     "output_type": "stream",
     "text": [
      "+--------------------+-----+------+------------------+\n",
      "|            features|Price|row_id|        prediction|\n",
      "+--------------------+-----+------+------------------+\n",
      "|(12,[0,1,8,9,10,1...| 2.15|  3281| 4.251886388895171|\n",
      "|(12,[0,1,8,9,10,1...|  4.0|    29| 7.771098672125601|\n",
      "|(12,[0,2,5,9,10,1...| 2.45|  1029| 2.923659867281364|\n",
      "|(12,[0,6,8,9,10,1...| 1.65|  2221|2.2895294268486404|\n",
      "|[171.0,0.0,1.0,0....|  3.6|  1323|3.2970135861256735|\n",
      "+--------------------+-----+------+------------------+\n",
      "only showing top 5 rows\n",
      "\n"
     ]
    }
   ],
   "source": [
    "predictions.show(5)"
   ]
  },
  {
   "cell_type": "code",
   "execution_count": 63,
   "metadata": {},
   "outputs": [
    {
     "name": "stdout",
     "output_type": "stream",
     "text": [
      "Root Mean Squared Error on test data 5.327260398963604\n"
     ]
    }
   ],
   "source": [
    "#Accuracy metrics RMSE\n",
    "from pyspark.ml.evaluation import RegressionEvaluator\n",
    "rfevaluator = RegressionEvaluator(labelCol=\"Price\",predictionCol=\"prediction\",metricName=\"rmse\")\n",
    "print(\"Root Mean Squared Error on test data\",rfevaluator.evaluate(predictions))\n"
   ]
  },
  {
   "cell_type": "code",
   "execution_count": 64,
   "metadata": {},
   "outputs": [
    {
     "name": "stdout",
     "output_type": "stream",
     "text": [
      "Rsquare for test data 0.7796473754313427\n"
     ]
    }
   ],
   "source": [
    "#Accuracy metrics R2\n",
    "from pyspark.ml.evaluation import RegressionEvaluator\n",
    "rfevaluator = RegressionEvaluator(labelCol=\"Price\",predictionCol=\"prediction\",metricName=\"r2\")\n",
    "print(\"Rsquare for test data\",rfevaluator.evaluate(predictions))"
   ]
  },
  {
   "cell_type": "code",
   "execution_count": 68,
   "metadata": {},
   "outputs": [],
   "source": [
    "#CONCLUSION :  RMSE: 5.3945 & r2: 0.77404 which slightly low than sklearn model"
   ]
  },
  {
   "cell_type": "code",
   "execution_count": 69,
   "metadata": {},
   "outputs": [],
   "source": [
    "#Grid search cv for best parameters"
   ]
  },
  {
   "cell_type": "code",
   "execution_count": 70,
   "metadata": {},
   "outputs": [],
   "source": [
    "# Create ParamGrid for Cross Validation\n",
    "from pyspark.ml.tuning import ParamGridBuilder, CrossValidator\n",
    "rfparamGrid = (ParamGridBuilder()\n",
    "               .addGrid(rf.maxDepth, [2, 5, 10])\n",
    "               .addGrid(rf.numTrees, [5, 20, 50])\n",
    "               .build())\n",
    "\n",
    "# Create 5-fold CrossValidator\n",
    "rfcv = CrossValidator(estimator = rf,\n",
    "                      estimatorParamMaps = rfparamGrid,\n",
    "                      evaluator = rfevaluator,\n",
    "                      numFolds = 5)"
   ]
  },
  {
   "cell_type": "code",
   "execution_count": 71,
   "metadata": {},
   "outputs": [
    {
     "name": "stdout",
     "output_type": "stream",
     "text": [
      "CrossValidatorModel_4d469511be49334eaeee\n"
     ]
    }
   ],
   "source": [
    "# Run cross validations.\n",
    "rfcvModel = rfcv.fit(train_data)\n",
    "print(rfcvModel)"
   ]
  },
  {
   "cell_type": "code",
   "execution_count": 72,
   "metadata": {},
   "outputs": [],
   "source": [
    "# Use test set here so we can measure the accuracy of our model on new data\n",
    "rfpredictions = rfcvModel.transform(test_data)"
   ]
  },
  {
   "cell_type": "code",
   "execution_count": 73,
   "metadata": {},
   "outputs": [
    {
     "name": "stdout",
     "output_type": "stream",
     "text": [
      "Root Mean Squared Error on test data 4.728208745704321\n"
     ]
    }
   ],
   "source": [
    "from pyspark.ml.evaluation import RegressionEvaluator\n",
    "rfevaluator = RegressionEvaluator(labelCol=\"Price\",predictionCol=\"prediction\",metricName=\"rmse\")\n",
    "print(\"Root Mean Squared Error on test data\",rfevaluator.evaluate(rfpredictions))\n"
   ]
  },
  {
   "cell_type": "code",
   "execution_count": 77,
   "metadata": {},
   "outputs": [
    {
     "name": "stdout",
     "output_type": "stream",
     "text": [
      "R2 on test data 0.8264184108878481\n"
     ]
    }
   ],
   "source": [
    "from pyspark.ml.evaluation import RegressionEvaluator\n",
    "rfevaluator = RegressionEvaluator(labelCol=\"Price\",predictionCol=\"prediction\",metricName=\"r2\")\n",
    "print(\"R2 on test data\",rfevaluator.evaluate(rfpredictions))\n"
   ]
  },
  {
   "cell_type": "code",
   "execution_count": 75,
   "metadata": {},
   "outputs": [
    {
     "data": {
      "text/plain": [
       "(0.7827030879509189,\n",
       " {Param(parent='RandomForestRegressor_444996f3fc533cbbd902', name='maxDepth', doc='Maximum depth of the tree. (>= 0) E.g., depth 0 means 1 leaf node; depth 1 means 1 internal node + 2 leaf nodes.'): 10,\n",
       "  Param(parent='RandomForestRegressor_444996f3fc533cbbd902', name='numTrees', doc='Number of trees to train (>= 1).'): 50})"
      ]
     },
     "execution_count": 75,
     "metadata": {},
     "output_type": "execute_result"
    }
   ],
   "source": [
    "#Best Model Params\n",
    "score_params_list = list(zip(rfcvModel.avgMetrics, rfcvModel.getEstimatorParamMaps()))\n",
    "max(score_params_list,key=lambda item:item[0])"
   ]
  },
  {
   "attachments": {
    "image.png": {
     "image/png": "[encoded data removed]"
    }
   },
   "cell_type": "markdown",
   "metadata": {},
   "source": [
    "CONCLUSION : CONCLUSION :  RMSE: 5.327 & r2: 0.7796 which is low than sklearn model. But after optimising by using grid search \n",
    "the RMSE : 4.728 & R2 : 0.8264 so we can conclude that R2 is 82% so we can conclude that model explains 82% of the change in our target variable price.\n",
    "Random Forest is giving better accuracy than linear regression.\n",
    "\n",
    "ACCURACY METRIC FOR BOTH THE MODELS :\n",
    "\n",
    "![image.png](attachment:image.png)"
   ]
  },
  {
   "cell_type": "code",
   "execution_count": null,
   "metadata": {},
   "outputs": [],
   "source": []
  }
 ],
 "metadata": {
  "kernelspec": {
   "display_name": "Python 3",
   "language": "python",
   "name": "python3"
  },
  "language_info": {
   "codemirror_mode": {
    "name": "ipython",
    "version": 3
   },
   "file_extension": ".py",
   "mimetype": "text/x-python",
   "name": "python",
   "nbconvert_exporter": "python",
   "pygments_lexer": "ipython3",
   "version": "3.8.8"
  },
  "toc": {
   "base_numbering": 1,
   "nav_menu": {},
   "number_sections": true,
   "sideBar": true,
   "skip_h1_title": false,
   "title_cell": "Table of Contents",
   "title_sidebar": "Contents",
   "toc_cell": false,
   "toc_position": {},
   "toc_section_display": true,
   "toc_window_display": false
  }
 },
 "nbformat": 4,
 "nbformat_minor": 2
}
